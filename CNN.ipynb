{
 "cells": [
  {
   "cell_type": "code",
   "execution_count": 1,
   "id": "ca5f34f1",
   "metadata": {},
   "outputs": [],
   "source": [
    "import numpy as np\n",
    "from keras import backend as K\n",
    "from keras.models import Sequential\n",
    "from keras.layers.core import Dense, Dropout, Activation, Flatten\n",
    "from keras.layers.convolutional import Convolution2D, MaxPooling2D\n",
    "from keras.preprocessing.image import ImageDataGenerator\n",
    "from keras.callbacks import TensorBoard\n",
    "#from sklearn.metrics import classification_report, confusion_matrix\n",
    "\n",
    "#Start\n"
   ]
  },
  {
   "cell_type": "code",
   "execution_count": 2,
   "id": "3063c445",
   "metadata": {},
   "outputs": [
    {
     "name": "stdout",
     "output_type": "stream",
     "text": [
      "Found 2164 images belonging to 6 classes.\n",
      "Found 1128 images belonging to 6 classes.\n"
     ]
    }
   ],
   "source": [
    "train_data_path = 'D:/paddy_leaf/Rice Leaf Disease Images2-small/train'\n",
    "test_data_path = 'D:/paddy_leaf/Rice Leaf Disease Images2-small/test'\n",
    "img_rows = 150\n",
    "img_cols = 150\n",
    "epochs = 60\n",
    "batch_size = 4\n",
    "num_of_train_samples = 212\n",
    "num_of_test_samples = 60\n",
    "\n",
    "#Image Generator\n",
    "train_datagen = ImageDataGenerator(rescale=1. / 255,\n",
    "                                   rotation_range=40,\n",
    "                                   width_shift_range=0.2,\n",
    "                                   height_shift_range=0.2,\n",
    "                                   shear_range=0.2,\n",
    "                                   zoom_range=0.2,\n",
    "                                   horizontal_flip=True,\n",
    "                                   fill_mode='nearest')\n",
    "test_datagen = ImageDataGenerator(rescale=1. / 255)\n",
    "\n",
    "train_generator = train_datagen.flow_from_directory(train_data_path,\n",
    "                                                    target_size=(img_rows, img_cols),\n",
    "                                                    batch_size=batch_size,\n",
    "                                                    class_mode='categorical')\n",
    "    \n",
    "validation_generator = test_datagen.flow_from_directory(test_data_path,\n",
    "                                                        target_size=(img_rows, img_cols),\n",
    "                                                        batch_size=batch_size,\n",
    "                                                        class_mode='categorical')\n",
    "\n",
    "\n",
    "#Train\n",
    "\n"
   ]
  },
  {
   "cell_type": "code",
   "execution_count": 3,
   "id": "211655d1",
   "metadata": {},
   "outputs": [],
   "source": [
    "# Build model\n",
    "model = Sequential()\n",
    "model.add(Convolution2D(32, (3, 3), input_shape=(img_rows, img_cols, 3), padding='valid'))\n",
    "model.add(Activation('relu'))\n",
    "model.add(MaxPooling2D(pool_size=(2, 2)))\n",
    "model.add(Convolution2D(64, (3, 3), padding='valid'))\n",
    "model.add(Activation('relu'))\n",
    "model.add(MaxPooling2D(pool_size=(2, 2)))\n",
    "model.add(Convolution2D(128, (3, 3), padding='valid'))\n",
    "model.add(Activation('relu'))\n",
    "model.add(MaxPooling2D(pool_size=(2, 2)))\n",
    "\n",
    "model.add(Flatten())\n",
    "model.add(Dense(64))\n",
    "model.add(Activation('relu'))\n",
    "model.add(Dropout(0.5))\n",
    "model.add(Dense(6))\n",
    "model.add(Activation('softmax'))\n",
    "\n",
    "model.compile(loss='categorical_crossentropy', optimizer='rmsprop', metrics=['accuracy'])\n"
   ]
  },
  {
   "cell_type": "code",
   "execution_count": 4,
   "id": "b370699d",
   "metadata": {
    "scrolled": false
   },
   "outputs": [
    {
     "name": "stderr",
     "output_type": "stream",
     "text": [
      "D:\\anaconda3\\lib\\site-packages\\keras\\engine\\training.py:1972: UserWarning: `Model.fit_generator` is deprecated and will be removed in a future version. Please use `Model.fit`, which supports generators.\n",
      "  warnings.warn('`Model.fit_generator` is deprecated and '\n"
     ]
    },
    {
     "name": "stdout",
     "output_type": "stream",
     "text": [
      "Epoch 1/60\n",
      "53/53 [==============================] - 19s 318ms/step - loss: 1.8825 - accuracy: 0.2453 - val_loss: 1.4604 - val_accuracy: 0.5000\n",
      "Epoch 2/60\n",
      "53/53 [==============================] - 19s 350ms/step - loss: 1.5285 - accuracy: 0.4292 - val_loss: 1.2824 - val_accuracy: 0.5833ccuracy\n",
      "Epoch 3/60\n",
      "53/53 [==============================] - 20s 376ms/step - loss: 1.2891 - accuracy: 0.4528 - val_loss: 1.2104 - val_accuracy: 0.5333\n",
      "Epoch 4/60\n",
      "53/53 [==============================] - 16s 302ms/step - loss: 1.2698 - accuracy: 0.4528 - val_loss: 1.0565 - val_accuracy: 0.6833\n",
      "Epoch 5/60\n",
      "53/53 [==============================] - 18s 347ms/step - loss: 1.2389 - accuracy: 0.5425 - val_loss: 1.1549 - val_accuracy: 0.6167\n",
      "Epoch 6/60\n",
      "53/53 [==============================] - 18s 350ms/step - loss: 1.3095 - accuracy: 0.4575 - val_loss: 0.9445 - val_accuracy: 0.7333\n",
      "Epoch 7/60\n",
      "53/53 [==============================] - 17s 317ms/step - loss: 0.9725 - accuracy: 0.6132 - val_loss: 0.9146 - val_accuracy: 0.7000\n",
      "Epoch 8/60\n",
      "53/53 [==============================] - 16s 304ms/step - loss: 1.0243 - accuracy: 0.6415 - val_loss: 0.9019 - val_accuracy: 0.6000\n",
      "Epoch 9/60\n",
      "53/53 [==============================] - 16s 301ms/step - loss: 1.1443 - accuracy: 0.5896 - val_loss: 0.7203 - val_accuracy: 0.7000\n",
      "Epoch 10/60\n",
      "53/53 [==============================] - 16s 295ms/step - loss: 1.0527 - accuracy: 0.5708 - val_loss: 0.7453 - val_accuracy: 0.6833\n",
      "Epoch 11/60\n",
      "53/53 [==============================] - 13s 249ms/step - loss: 1.1532 - accuracy: 0.5849 - val_loss: 0.7423 - val_accuracy: 0.6333\n",
      "Epoch 12/60\n",
      "53/53 [==============================] - 12s 231ms/step - loss: 0.9928 - accuracy: 0.5896 - val_loss: 0.8630 - val_accuracy: 0.6000\n",
      "Epoch 13/60\n",
      "53/53 [==============================] - 12s 211ms/step - loss: 1.0723 - accuracy: 0.5519 - val_loss: 1.4426 - val_accuracy: 0.5833\n",
      "Epoch 14/60\n",
      "53/53 [==============================] - 13s 254ms/step - loss: 1.0221 - accuracy: 0.6557 - val_loss: 0.5940 - val_accuracy: 0.7333\n",
      "Epoch 15/60\n",
      "53/53 [==============================] - 14s 257ms/step - loss: 1.0309 - accuracy: 0.6604 - val_loss: 1.3387 - val_accuracy: 0.6333\n",
      "Epoch 16/60\n",
      "53/53 [==============================] - 12s 229ms/step - loss: 1.2021 - accuracy: 0.6792 - val_loss: 0.8260 - val_accuracy: 0.7167\n",
      "Epoch 17/60\n",
      "53/53 [==============================] - 13s 241ms/step - loss: 0.9498 - accuracy: 0.6557 - val_loss: 1.6554 - val_accuracy: 0.6500\n",
      "Epoch 18/60\n",
      "53/53 [==============================] - 12s 223ms/step - loss: 0.9839 - accuracy: 0.6887 - val_loss: 1.1301 - val_accuracy: 0.6000\n",
      "Epoch 19/60\n",
      "53/53 [==============================] - 12s 224ms/step - loss: 0.8990 - accuracy: 0.7028 - val_loss: 1.4863 - val_accuracy: 0.6167\n",
      "Epoch 20/60\n",
      "53/53 [==============================] - 12s 226ms/step - loss: 0.9181 - accuracy: 0.6745 - val_loss: 0.6046 - val_accuracy: 0.8333\n",
      "Epoch 21/60\n",
      "53/53 [==============================] - 15s 287ms/step - loss: 0.9152 - accuracy: 0.7406 - val_loss: 0.5967 - val_accuracy: 0.8333\n",
      "Epoch 22/60\n",
      "53/53 [==============================] - 12s 219ms/step - loss: 0.8773 - accuracy: 0.6981 - val_loss: 0.3517 - val_accuracy: 0.8667\n",
      "Epoch 23/60\n",
      "53/53 [==============================] - 12s 222ms/step - loss: 0.8789 - accuracy: 0.7075 - val_loss: 0.5714 - val_accuracy: 0.8000\n",
      "Epoch 24/60\n",
      "53/53 [==============================] - 14s 274ms/step - loss: 0.6983 - accuracy: 0.7406 - val_loss: 0.9169 - val_accuracy: 0.7000\n",
      "Epoch 25/60\n",
      "53/53 [==============================] - 14s 270ms/step - loss: 0.7111 - accuracy: 0.7406 - val_loss: 0.5529 - val_accuracy: 0.8333\n",
      "Epoch 26/60\n",
      "53/53 [==============================] - 12s 235ms/step - loss: 0.9756 - accuracy: 0.6934 - val_loss: 0.5139 - val_accuracy: 0.8333\n",
      "Epoch 27/60\n",
      "53/53 [==============================] - 15s 293ms/step - loss: 0.7830 - accuracy: 0.7358 - val_loss: 0.7767 - val_accuracy: 0.8167\n",
      "Epoch 28/60\n",
      "53/53 [==============================] - 11s 201ms/step - loss: 0.9284 - accuracy: 0.6934 - val_loss: 0.6084 - val_accuracy: 0.7500\n",
      "Epoch 29/60\n",
      "53/53 [==============================] - 11s 215ms/step - loss: 0.7856 - accuracy: 0.7170 - val_loss: 0.5707 - val_accuracy: 0.9000\n",
      "Epoch 30/60\n",
      "53/53 [==============================] - 12s 223ms/step - loss: 0.7333 - accuracy: 0.7736 - val_loss: 1.1137 - val_accuracy: 0.7667\n",
      "Epoch 31/60\n",
      "53/53 [==============================] - 11s 203ms/step - loss: 0.6312 - accuracy: 0.7642 - val_loss: 0.6041 - val_accuracy: 0.7833\n",
      "Epoch 32/60\n",
      "53/53 [==============================] - 10s 191ms/step - loss: 0.9351 - accuracy: 0.7311 - val_loss: 0.5592 - val_accuracy: 0.8000\n",
      "Epoch 33/60\n",
      "53/53 [==============================] - 11s 213ms/step - loss: 0.7234 - accuracy: 0.7358 - val_loss: 0.4362 - val_accuracy: 0.8333\n",
      "Epoch 34/60\n",
      "53/53 [==============================] - 11s 212ms/step - loss: 0.7566 - accuracy: 0.7075 - val_loss: 0.9932 - val_accuracy: 0.6667\n",
      "Epoch 35/60\n",
      "53/53 [==============================] - 11s 211ms/step - loss: 0.6754 - accuracy: 0.7783 - val_loss: 0.3908 - val_accuracy: 0.8667\n",
      "Epoch 36/60\n",
      "53/53 [==============================] - 11s 209ms/step - loss: 0.7946 - accuracy: 0.7170 - val_loss: 0.3610 - val_accuracy: 0.8833\n",
      "Epoch 37/60\n",
      "53/53 [==============================] - 13s 239ms/step - loss: 0.6520 - accuracy: 0.7736 - val_loss: 0.5036 - val_accuracy: 0.8667\n",
      "Epoch 38/60\n",
      "53/53 [==============================] - 11s 211ms/step - loss: 0.7507 - accuracy: 0.7783 - val_loss: 0.7185 - val_accuracy: 0.8000\n",
      "Epoch 39/60\n",
      "53/53 [==============================] - 11s 199ms/step - loss: 0.6075 - accuracy: 0.7642 - val_loss: 0.6497 - val_accuracy: 0.7833\n",
      "Epoch 40/60\n",
      "53/53 [==============================] - 13s 243ms/step - loss: 0.7625 - accuracy: 0.7358 - val_loss: 0.4445 - val_accuracy: 0.8500\n",
      "Epoch 41/60\n",
      "53/53 [==============================] - 12s 218ms/step - loss: 0.8341 - accuracy: 0.7264 - val_loss: 0.4099 - val_accuracy: 0.8500\n",
      "Epoch 42/60\n",
      "53/53 [==============================] - 12s 237ms/step - loss: 0.8001 - accuracy: 0.7264 - val_loss: 0.7129 - val_accuracy: 0.7667\n",
      "Epoch 43/60\n",
      "53/53 [==============================] - 13s 254ms/step - loss: 0.8489 - accuracy: 0.7783 - val_loss: 1.6770 - val_accuracy: 0.6500\n",
      "Epoch 44/60\n",
      "53/53 [==============================] - 12s 233ms/step - loss: 0.6690 - accuracy: 0.8066 - val_loss: 0.3058 - val_accuracy: 0.8833\n",
      "Epoch 45/60\n",
      "53/53 [==============================] - 11s 202ms/step - loss: 0.8351 - accuracy: 0.7453 - val_loss: 0.6501 - val_accuracy: 0.8333\n",
      "Epoch 46/60\n",
      "53/53 [==============================] - 10s 187ms/step - loss: 0.7961 - accuracy: 0.7453 - val_loss: 0.4955 - val_accuracy: 0.8167\n",
      "Epoch 47/60\n",
      "53/53 [==============================] - 11s 207ms/step - loss: 0.7749 - accuracy: 0.7170 - val_loss: 0.5398 - val_accuracy: 0.8167\n",
      "Epoch 48/60\n",
      "53/53 [==============================] - 10s 185ms/step - loss: 0.7738 - accuracy: 0.7264 - val_loss: 0.6284 - val_accuracy: 0.7667\n",
      "Epoch 49/60\n",
      "53/53 [==============================] - 11s 203ms/step - loss: 0.8291 - accuracy: 0.8066 - val_loss: 0.3385 - val_accuracy: 0.9000\n",
      "Epoch 50/60\n",
      "53/53 [==============================] - 11s 214ms/step - loss: 0.6958 - accuracy: 0.7642 - val_loss: 0.7588 - val_accuracy: 0.7333\n",
      "Epoch 51/60\n",
      "53/53 [==============================] - 10s 196ms/step - loss: 0.6444 - accuracy: 0.7311 - val_loss: 1.3637 - val_accuracy: 0.7000\n",
      "Epoch 52/60\n",
      "53/53 [==============================] - 10s 182ms/step - loss: 0.9493 - accuracy: 0.7217 - val_loss: 0.6867 - val_accuracy: 0.8667\n",
      "Epoch 53/60\n",
      "53/53 [==============================] - 9s 177ms/step - loss: 1.0092 - accuracy: 0.6745 - val_loss: 0.8078 - val_accuracy: 0.7333\n",
      "Epoch 54/60\n",
      "53/53 [==============================] - 11s 202ms/step - loss: 0.8937 - accuracy: 0.7311 - val_loss: 0.2459 - val_accuracy: 0.9167\n",
      "Epoch 55/60\n",
      "53/53 [==============================] - 10s 187ms/step - loss: 0.7964 - accuracy: 0.7500 - val_loss: 0.5621 - val_accuracy: 0.8667\n",
      "Epoch 56/60\n",
      "53/53 [==============================] - 13s 238ms/step - loss: 0.9112 - accuracy: 0.7972 - val_loss: 0.8070 - val_accuracy: 0.7667\n",
      "Epoch 57/60\n",
      "53/53 [==============================] - 9s 178ms/step - loss: 0.8600 - accuracy: 0.7594 - val_loss: 0.8917 - val_accuracy: 0.7000\n",
      "Epoch 58/60\n",
      "53/53 [==============================] - 8s 160ms/step - loss: 0.8502 - accuracy: 0.7358 - val_loss: 0.7328 - val_accuracy: 0.6667\n",
      "Epoch 59/60\n",
      "53/53 [==============================] - 10s 192ms/step - loss: 0.9681 - accuracy: 0.7453 - val_loss: 0.3842 - val_accuracy: 0.8500\n",
      "Epoch 60/60\n",
      "53/53 [==============================] - 10s 195ms/step - loss: 0.7822 - accuracy: 0.7217 - val_loss: 0.3528 - val_accuracy: 0.8500\n"
     ]
    },
    {
     "data": {
      "text/plain": [
       "<keras.callbacks.History at 0x206cbd51e20>"
      ]
     },
     "execution_count": 4,
     "metadata": {},
     "output_type": "execute_result"
    }
   ],
   "source": [
    "model.fit_generator(train_generator,\n",
    "                    steps_per_epoch=num_of_train_samples // batch_size,\n",
    "                    epochs=epochs,\n",
    "                    validation_data=validation_generator,\n",
    "                    validation_steps=num_of_test_samples // batch_size)"
   ]
  },
  {
   "cell_type": "code",
   "execution_count": 5,
   "id": "956c2593",
   "metadata": {},
   "outputs": [],
   "source": [
    " #Confution Matrix\n",
    "from matplotlib import pyplot as plt\n",
    "from sklearn.metrics import confusion_matrix\n",
    "import itertools\n",
    "    \n",
    "def plot_confusion_matrix(cm, classes, normalize=False, title='Confusion matrix', cmap=plt.cm.Blues):\n",
    "    \n",
    "    \"\"\" This function prints and plots the confusion matrix.\n",
    "       Normalization can be applied by setting `normalize=True`.\"\"\"\n",
    "    \n",
    "    plt.imshow(cm, interpolation='nearest', cmap=cmap)\n",
    "    plt.title(title)\n",
    "    plt.colorbar()\n",
    "    tick_marks = np.arange(len(classes))\n",
    "    plt.xticks(tick_marks, classes, rotation=45)\n",
    "    plt.yticks(tick_marks, classes)\n",
    "    if normalize:\n",
    "        cm = cm.astype('float') / cm.sum(axis=1)[:, np.newaxis]\n",
    "        print(\"Normalized confusion matrix\")\n",
    "    else:\n",
    "        print('Confusion matrix, without normalization')\n",
    "   \n",
    "    print(cm)\n",
    "    \n",
    "    thresh = cm.max() / 2.\n",
    "    for i, j in itertools.product(range(cm.shape[0]), range(cm.shape[1])):\n",
    "     plt.text(j, i, cm[i, j],\n",
    "              horizontalalignment=\"center\",\n",
    "              color=\"white\" if cm[i, j] > thresh else \"black\")\n",
    "     plt.tight_layout()\n",
    "     plt.ylabel('True label')\n",
    "     plt.xlabel('Predicted label')"
   ]
  },
  {
   "cell_type": "code",
   "execution_count": 6,
   "id": "53591698",
   "metadata": {},
   "outputs": [
    {
     "name": "stderr",
     "output_type": "stream",
     "text": [
      "D:\\anaconda3\\lib\\site-packages\\keras\\engine\\training.py:2035: UserWarning: `Model.predict_generator` is deprecated and will be removed in a future version. Please use `Model.predict`, which supports generators.\n",
      "  warnings.warn('`Model.predict_generator` is deprecated and '\n"
     ]
    }
   ],
   "source": [
    "Y_pred = model.predict_generator( validation_generator, 15 )\n",
    "y_pred = np.argmax(Y_pred, axis=1)"
   ]
  },
  {
   "cell_type": "code",
   "execution_count": 7,
   "id": "9e54fee0",
   "metadata": {},
   "outputs": [
    {
     "ename": "ValueError",
     "evalue": "Found input variables with inconsistent numbers of samples: [1128, 60]",
     "output_type": "error",
     "traceback": [
      "\u001b[1;31m---------------------------------------------------------------------------\u001b[0m",
      "\u001b[1;31mValueError\u001b[0m                                Traceback (most recent call last)",
      "\u001b[1;32m<ipython-input-7-a85ff17f6d87>\u001b[0m in \u001b[0;36m<module>\u001b[1;34m\u001b[0m\n\u001b[1;32m----> 1\u001b[1;33m \u001b[0mcm\u001b[0m\u001b[1;33m=\u001b[0m\u001b[0mconfusion_matrix\u001b[0m\u001b[1;33m(\u001b[0m\u001b[0mvalidation_generator\u001b[0m\u001b[1;33m.\u001b[0m\u001b[0mclasses\u001b[0m\u001b[1;33m,\u001b[0m \u001b[0my_pred\u001b[0m\u001b[1;33m)\u001b[0m\u001b[1;33m\u001b[0m\u001b[1;33m\u001b[0m\u001b[0m\n\u001b[0m\u001b[0;32m      2\u001b[0m \u001b[0mplot_confusion_matrix\u001b[0m\u001b[1;33m(\u001b[0m\u001b[0mcm\u001b[0m\u001b[1;33m,\u001b[0m\u001b[1;33m[\u001b[0m\u001b[1;34m'Bacterialblight'\u001b[0m\u001b[1;33m,\u001b[0m\u001b[1;34m'Blast'\u001b[0m\u001b[1;33m,\u001b[0m\u001b[1;34m'Brownspot'\u001b[0m\u001b[1;33m,\u001b[0m\u001b[1;34m'Healthy'\u001b[0m\u001b[1;33m,\u001b[0m\u001b[1;34m'Leaf smut'\u001b[0m\u001b[1;33m,\u001b[0m\u001b[1;34m'Tungro'\u001b[0m\u001b[1;33m]\u001b[0m\u001b[1;33m)\u001b[0m\u001b[1;31m# use your class labels\"\u001b[0m\u001b[1;33m\u001b[0m\u001b[1;33m\u001b[0m\u001b[0m\n",
      "\u001b[1;32mD:\\anaconda3\\lib\\site-packages\\sklearn\\utils\\validation.py\u001b[0m in \u001b[0;36minner_f\u001b[1;34m(*args, **kwargs)\u001b[0m\n\u001b[0;32m     61\u001b[0m             \u001b[0mextra_args\u001b[0m \u001b[1;33m=\u001b[0m \u001b[0mlen\u001b[0m\u001b[1;33m(\u001b[0m\u001b[0margs\u001b[0m\u001b[1;33m)\u001b[0m \u001b[1;33m-\u001b[0m \u001b[0mlen\u001b[0m\u001b[1;33m(\u001b[0m\u001b[0mall_args\u001b[0m\u001b[1;33m)\u001b[0m\u001b[1;33m\u001b[0m\u001b[1;33m\u001b[0m\u001b[0m\n\u001b[0;32m     62\u001b[0m             \u001b[1;32mif\u001b[0m \u001b[0mextra_args\u001b[0m \u001b[1;33m<=\u001b[0m \u001b[1;36m0\u001b[0m\u001b[1;33m:\u001b[0m\u001b[1;33m\u001b[0m\u001b[1;33m\u001b[0m\u001b[0m\n\u001b[1;32m---> 63\u001b[1;33m                 \u001b[1;32mreturn\u001b[0m \u001b[0mf\u001b[0m\u001b[1;33m(\u001b[0m\u001b[1;33m*\u001b[0m\u001b[0margs\u001b[0m\u001b[1;33m,\u001b[0m \u001b[1;33m**\u001b[0m\u001b[0mkwargs\u001b[0m\u001b[1;33m)\u001b[0m\u001b[1;33m\u001b[0m\u001b[1;33m\u001b[0m\u001b[0m\n\u001b[0m\u001b[0;32m     64\u001b[0m \u001b[1;33m\u001b[0m\u001b[0m\n\u001b[0;32m     65\u001b[0m             \u001b[1;31m# extra_args > 0\u001b[0m\u001b[1;33m\u001b[0m\u001b[1;33m\u001b[0m\u001b[1;33m\u001b[0m\u001b[0m\n",
      "\u001b[1;32mD:\\anaconda3\\lib\\site-packages\\sklearn\\metrics\\_classification.py\u001b[0m in \u001b[0;36mconfusion_matrix\u001b[1;34m(y_true, y_pred, labels, sample_weight, normalize)\u001b[0m\n\u001b[0;32m    294\u001b[0m \u001b[1;33m\u001b[0m\u001b[0m\n\u001b[0;32m    295\u001b[0m     \"\"\"\n\u001b[1;32m--> 296\u001b[1;33m     \u001b[0my_type\u001b[0m\u001b[1;33m,\u001b[0m \u001b[0my_true\u001b[0m\u001b[1;33m,\u001b[0m \u001b[0my_pred\u001b[0m \u001b[1;33m=\u001b[0m \u001b[0m_check_targets\u001b[0m\u001b[1;33m(\u001b[0m\u001b[0my_true\u001b[0m\u001b[1;33m,\u001b[0m \u001b[0my_pred\u001b[0m\u001b[1;33m)\u001b[0m\u001b[1;33m\u001b[0m\u001b[1;33m\u001b[0m\u001b[0m\n\u001b[0m\u001b[0;32m    297\u001b[0m     \u001b[1;32mif\u001b[0m \u001b[0my_type\u001b[0m \u001b[1;32mnot\u001b[0m \u001b[1;32min\u001b[0m \u001b[1;33m(\u001b[0m\u001b[1;34m\"binary\"\u001b[0m\u001b[1;33m,\u001b[0m \u001b[1;34m\"multiclass\"\u001b[0m\u001b[1;33m)\u001b[0m\u001b[1;33m:\u001b[0m\u001b[1;33m\u001b[0m\u001b[1;33m\u001b[0m\u001b[0m\n\u001b[0;32m    298\u001b[0m         \u001b[1;32mraise\u001b[0m \u001b[0mValueError\u001b[0m\u001b[1;33m(\u001b[0m\u001b[1;34m\"%s is not supported\"\u001b[0m \u001b[1;33m%\u001b[0m \u001b[0my_type\u001b[0m\u001b[1;33m)\u001b[0m\u001b[1;33m\u001b[0m\u001b[1;33m\u001b[0m\u001b[0m\n",
      "\u001b[1;32mD:\\anaconda3\\lib\\site-packages\\sklearn\\metrics\\_classification.py\u001b[0m in \u001b[0;36m_check_targets\u001b[1;34m(y_true, y_pred)\u001b[0m\n\u001b[0;32m     81\u001b[0m     \u001b[0my_pred\u001b[0m \u001b[1;33m:\u001b[0m \u001b[0marray\u001b[0m \u001b[1;32mor\u001b[0m \u001b[0mindicator\u001b[0m \u001b[0mmatrix\u001b[0m\u001b[1;33m\u001b[0m\u001b[1;33m\u001b[0m\u001b[0m\n\u001b[0;32m     82\u001b[0m     \"\"\"\n\u001b[1;32m---> 83\u001b[1;33m     \u001b[0mcheck_consistent_length\u001b[0m\u001b[1;33m(\u001b[0m\u001b[0my_true\u001b[0m\u001b[1;33m,\u001b[0m \u001b[0my_pred\u001b[0m\u001b[1;33m)\u001b[0m\u001b[1;33m\u001b[0m\u001b[1;33m\u001b[0m\u001b[0m\n\u001b[0m\u001b[0;32m     84\u001b[0m     \u001b[0mtype_true\u001b[0m \u001b[1;33m=\u001b[0m \u001b[0mtype_of_target\u001b[0m\u001b[1;33m(\u001b[0m\u001b[0my_true\u001b[0m\u001b[1;33m)\u001b[0m\u001b[1;33m\u001b[0m\u001b[1;33m\u001b[0m\u001b[0m\n\u001b[0;32m     85\u001b[0m     \u001b[0mtype_pred\u001b[0m \u001b[1;33m=\u001b[0m \u001b[0mtype_of_target\u001b[0m\u001b[1;33m(\u001b[0m\u001b[0my_pred\u001b[0m\u001b[1;33m)\u001b[0m\u001b[1;33m\u001b[0m\u001b[1;33m\u001b[0m\u001b[0m\n",
      "\u001b[1;32mD:\\anaconda3\\lib\\site-packages\\sklearn\\utils\\validation.py\u001b[0m in \u001b[0;36mcheck_consistent_length\u001b[1;34m(*arrays)\u001b[0m\n\u001b[0;32m    260\u001b[0m     \u001b[0muniques\u001b[0m \u001b[1;33m=\u001b[0m \u001b[0mnp\u001b[0m\u001b[1;33m.\u001b[0m\u001b[0munique\u001b[0m\u001b[1;33m(\u001b[0m\u001b[0mlengths\u001b[0m\u001b[1;33m)\u001b[0m\u001b[1;33m\u001b[0m\u001b[1;33m\u001b[0m\u001b[0m\n\u001b[0;32m    261\u001b[0m     \u001b[1;32mif\u001b[0m \u001b[0mlen\u001b[0m\u001b[1;33m(\u001b[0m\u001b[0muniques\u001b[0m\u001b[1;33m)\u001b[0m \u001b[1;33m>\u001b[0m \u001b[1;36m1\u001b[0m\u001b[1;33m:\u001b[0m\u001b[1;33m\u001b[0m\u001b[1;33m\u001b[0m\u001b[0m\n\u001b[1;32m--> 262\u001b[1;33m         raise ValueError(\"Found input variables with inconsistent numbers of\"\n\u001b[0m\u001b[0;32m    263\u001b[0m                          \" samples: %r\" % [int(l) for l in lengths])\n\u001b[0;32m    264\u001b[0m \u001b[1;33m\u001b[0m\u001b[0m\n",
      "\u001b[1;31mValueError\u001b[0m: Found input variables with inconsistent numbers of samples: [1128, 60]"
     ]
    }
   ],
   "source": [
    "cm=confusion_matrix(validation_generator.classes, y_pred)\n",
    "plot_confusion_matrix(cm,['Bacterialblight','Blast','Brownspot','Healthy','Leaf smut','Tungro'])# use your class labels\""
   ]
  },
  {
   "cell_type": "code",
   "execution_count": null,
   "id": "570d8600",
   "metadata": {},
   "outputs": [],
   "source": []
  }
 ],
 "metadata": {
  "kernelspec": {
   "display_name": "Python 3",
   "language": "python",
   "name": "python3"
  },
  "language_info": {
   "codemirror_mode": {
    "name": "ipython",
    "version": 3
   },
   "file_extension": ".py",
   "mimetype": "text/x-python",
   "name": "python",
   "nbconvert_exporter": "python",
   "pygments_lexer": "ipython3",
   "version": "3.8.8"
  }
 },
 "nbformat": 4,
 "nbformat_minor": 5
}
